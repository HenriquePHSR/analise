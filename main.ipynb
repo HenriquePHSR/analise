{
 "metadata": {
  "language_info": {
   "codemirror_mode": {
    "name": "ipython",
    "version": 3
   },
   "file_extension": ".py",
   "mimetype": "text/x-python",
   "name": "python",
   "nbconvert_exporter": "python",
   "pygments_lexer": "ipython3",
   "version": "3.9.4"
  },
  "orig_nbformat": 2,
  "kernelspec": {
   "name": "python394jvsc74a57bd010c6e68b0cb126d8f819ee9e3ca611cfa4579f5f407b8a90bade56fdf3941935",
   "display_name": "Python 3.9.4 64-bit"
  },
  "metadata": {
   "interpreter": {
    "hash": "10c6e68b0cb126d8f819ee9e3ca611cfa4579f5f407b8a90bade56fdf3941935"
   }
  }
 },
 "nbformat": 4,
 "nbformat_minor": 2,
 "cells": [
  {
   "cell_type": "code",
   "execution_count": null,
   "metadata": {},
   "outputs": [],
   "source": [
    "import os\n",
    "import pandas as pd\n",
    "import re\n",
    "import openpyxl\n",
    "import numpy as np\n",
    "from datetime import datetime\n",
    "import spreadsheet_process as sp\n",
    "import unicodedata\n",
    "#from __future__ import print_function\n",
    "import os.path\n",
    "from googleapiclient.discovery import build\n",
    "from google_auth_oauthlib.flow import InstalledAppFlow\n",
    "from google.auth.transport.requests import Request\n",
    "from google.oauth2.credentials import Credentials\n",
    "\n",
    "\n",
    "pd.set_option('display.max_columns', None)"
   ]
  },
  {
   "cell_type": "code",
   "execution_count": null,
   "metadata": {},
   "outputs": [],
   "source": [
    "UF = pd.read_csv('UF.csv')\n",
    "ddd = pd.read_csv('ddd.csv')\n",
    "UF_dict = dict(zip(list(UF['estado']), list(UF['sigla'])))\n",
    "ddd_dict = dict(zip(list(ddd['ddd']), list(ddd['UF'])))\n",
    "states_by_zipcode = {\n",
    "    (69900000,69999999) : 'ac',\n",
    "    (57000000,57999999) : 'al',\n",
    "    (69000000,69299999) : 'am',\n",
    "    (69400000,69899999) : 'am',\n",
    "    (68900000,68999999) : 'ap',\n",
    "    (40000000,48999999) : 'ba',\n",
    "    (60000000,63999999) : 'ce',\n",
    "    (70000000,72799999) : 'df',\n",
    "    (73000000,73699999) : 'df',\n",
    "    (29000000,29999999) : 'es',\n",
    "    (72800000,72999999) : 'go',\n",
    "    (73700000,76799999) : 'go',\n",
    "    (65000000,65999999) : 'ma',\n",
    "    (30000000,39999999) : 'mg',\n",
    "    (79000000,79999999) : 'ms',\n",
    "    (78000000,78899999) : 'mt',\n",
    "    (66000000,68899999) : 'pa',\n",
    "    (58000000,58999999) : 'pb',\n",
    "    (50000000,56999999) : 'pe',\n",
    "    (64000000,64999999) : 'pi',\n",
    "    (80000000,87999999) : 'pr',\n",
    "    (20000000,28999999) : 'rj',\n",
    "    (59000000,59999999) : 'rn',\n",
    "    (76800000,76999999) : 'ro',\n",
    "    (69300000,69399999) : 'rr',\n",
    "    (90000000,99999999) : 'rs',\n",
    "    (88000000,89999999) : 'sc',\n",
    "    (49000000,49999999) : 'se',\n",
    "    (1000000,19999999) :  'sp',\n",
    "    (77000000,77999999) : 'to'\n",
    "}"
   ]
  },
  {
   "cell_type": "code",
   "execution_count": null,
   "metadata": {},
   "outputs": [],
   "source": [
    "# import pickle\n",
    "\n",
    "# zipcode_to_file = open('st_zipcode.bin', 'wb')\n",
    "# pickle.dump(states_by_zipcode, zipcode_to_file)\n",
    "# zipcode_to_file.close()"
   ]
  },
  {
   "cell_type": "code",
   "execution_count": null,
   "metadata": {},
   "outputs": [],
   "source": [
    "# st_zipcode_file = open('st_zipcode.bin', \"rb\")\n",
    "# st_zipcode = pickle.load(st_zipcode_file)\n",
    "# print(st_zipcode)"
   ]
  },
  {
   "cell_type": "code",
   "execution_count": null,
   "metadata": {},
   "outputs": [],
   "source": [
    "def format_string(to_format):\n",
    "    return ''.join(l  for l in str(to_format) if l.isalnum() or l.isspace())\n",
    "\n",
    "def is_email_valid(email):\n",
    "    if type(email) == str:\n",
    "        if re.search(r\"(^[a-zA-Z0-9_.+-]+@[a-zA-Z0-9-]+\\.[a-zA-Z0-9-.]+$)\", email):\n",
    "            return True\n",
    "        else:\n",
    "            return False\n",
    "    else:\n",
    "        return False\n",
    "    \n",
    "def format_tel(tel):\n",
    "    tel = str(tel)\n",
    "    if len(tel) == 11 and int(tel[:2]) in ddd_dict:\n",
    "        return '({}){}-{}'.format(tel[:2], tel[2:7], tel[7:])\n",
    "    else:\n",
    "        return tel\n",
    "\n",
    "def state_location(zipcode: str):\n",
    "    if zipcode is not np.nan:\n",
    "        zip_as_numeral = int(format_string(zipcode))\n",
    "        for (value1, value2) in states_by_zipcode.keys():\n",
    "            if value1 <= zip_as_numeral <= value2:\n",
    "                return states_by_zipcode[(value1, value2)]\n",
    "    return np.nan\n",
    "\n",
    "# def check_UF(row, UF_dict):\n",
    "#     uf = str(row['Estado'])\n",
    "#     tels = [row['Telefone 1'], row['Telefone 2'], row['Telefone 3']]\n",
    "#     if uf in UF_dict.values():\n",
    "#         return uf\n",
    "#     else:\n",
    "#         if uf == '' or uf == None: # search in phone number\n",
    "#             for phone in tels:\n",
    "#                 if phone != None and len(phone)==14 and int(phone[:2]) in ddd_dict.keys():\n",
    "#                     return UF_dict[ddd_dict[int(phone[:2])]]\n",
    "#             return None\n",
    "#         if len(uf)>2:\n",
    "#             if uf in UF_dict.keys():\n",
    "#                 return UF_dict[uf]\n",
    "#             else: # search in phone number\n",
    "#                 for phone in tels:\n",
    "#                     if phone != None and len(phone)==14 and int(phone[:2]) in ddd_dict.keys():\n",
    "#                         return UF_dict[ddd_dict[int(phone[:2])]]\n",
    "#                 return None\n"
   ]
  },
  {
   "cell_type": "code",
   "execution_count": null,
   "metadata": {},
   "outputs": [],
   "source": [
    "if os.path.exists('./input/'):\n",
    "    df = pd.read_excel('./input/listStudents6-converted.xlsx')\n",
    "else:\n",
    "    fpath = input()\n",
    "    df = pd.read_excel(fpath)\n",
    "df = df.drop(columns=['#','Último Acesso','Matrícula'])\n",
    "\n",
    "forbidden_words = ['AAA','TESTE', 'TEST', 'TRTRIXX', 'TRIXX', 'Pedro', 'HIKARO']\n",
    "\n",
    "# remove linhas que contenham no email ou no nome os termos acima\n",
    "df = df[~df['E-Mail'].str.upper().str.contains('|'.join(forbidden_words), na=False)]\n",
    "df = df[~df['Nome'].str.upper().str.contains('|'.join(forbidden_words), na=False)]\n",
    "df = df[~df['QLB'].str.upper().str.contains('|'.join(forbidden_words), na=False)]\n",
    "\n",
    "df = df.replace('^\\s*$', np.nan, regex=True)"
   ]
  },
  {
   "cell_type": "code",
   "execution_count": null,
   "metadata": {},
   "outputs": [],
   "source": [
    "''' AUTOCOMPLETE CPF  AND FORMAT'''\n",
    "df['CPF'] = df['CPF'].str.replace('*', '', regex=False)\n",
    "df['CPF'] = df['CPF'].str.zfill(11)"
   ]
  },
  {
   "cell_type": "code",
   "execution_count": null,
   "metadata": {},
   "outputs": [],
   "source": [
    "colunas_padronizadas = ['Nome','QLB','Endereço', 'Curso', 'Complemento', 'Bairro', 'Cidade', 'Estado', 'CEP']\n",
    "#colunas em camelcase\n",
    "df[colunas_padronizadas] = df[colunas_padronizadas].apply(lambda x: x.str.title())\n",
    "#remove caracteres com missing type\n",
    "df[colunas_padronizadas] = df[colunas_padronizadas].apply(lambda x: x.str.normalize('NFKD').str.encode('ascii', errors='ignore').str.decode('utf-8'))\n",
    "# df['Bairro'] = df['Bairro'].apply(rm_encode_err_terms)"
   ]
  },
  {
   "cell_type": "code",
   "execution_count": null,
   "metadata": {},
   "outputs": [],
   "source": [
    "#COLUNA: NOME\n",
    "#remove linhas \n",
    "df = df[df['Nome'].notna()]\n",
    "# df[df['Nome'].str.contains('454', na=False)]\n",
    "#remove caracteres especiais\n",
    "df['Nome'] = df['Nome'].apply(format_string)"
   ]
  },
  {
   "cell_type": "code",
   "execution_count": null,
   "metadata": {},
   "outputs": [],
   "source": [
    "# COLUNA: QLB\n",
    "df['QLB'] = df['QLB'].apply(format_string)"
   ]
  },
  {
   "cell_type": "code",
   "execution_count": null,
   "metadata": {},
   "outputs": [],
   "source": [
    "# DATAS\n",
    "df['Nascimento'] = df['Nascimento'].replace('0000-00-00', np.nan)\n",
    "df['Nascimento'] = pd.to_datetime(df['Nascimento'], format='%Y-%m-%d', errors='coerce')\n",
    "df['Registro'] = pd.to_datetime(df['Registro'], format='%d/%m/%Y', errors='coerce')\n",
    "df['Inscrição'] = pd.to_datetime(df['Inscrição'], format='%d/%m/%Y', errors='coerce')"
   ]
  },
  {
   "cell_type": "code",
   "execution_count": null,
   "metadata": {},
   "outputs": [],
   "source": [
    "#Coluna: SEXO\n",
    "df.loc[df['CPF'] == '03791577050', 'Sexo'] = 'Masculino'\n",
    "df.loc[df['CPF'] == '08025244946', 'Sexo'] = 'Feminino'\n",
    "df.loc[df['CPF'] == '15241851755', 'Sexo'] = 'Masculino'\n",
    "df.loc[df['CPF'] == '10419644717', 'Sexo'] = 'Feminino'\n",
    "\n",
    "df['Sexo'] = df['Sexo'].str.lower().map({'masculino': 'M', 'feminino': 'F'})"
   ]
  },
  {
   "cell_type": "code",
   "execution_count": null,
   "metadata": {},
   "outputs": [],
   "source": [
    "columns = ['ID', 'Número', 'CEP', 'RG', 'Telefone 1', 'Telefone 2', 'Telefone 3']\n",
    "df[columns] = df[columns].replace(r'[^0-9]+', '',regex=True)"
   ]
  },
  {
   "cell_type": "code",
   "execution_count": null,
   "metadata": {},
   "outputs": [],
   "source": [
    "''' VALIDATE CPF '''\n",
    "# Show lines with invalid CPF\n",
    "df[~df['CPF'].apply(sp.validate)]"
   ]
  },
  {
   "cell_type": "code",
   "execution_count": null,
   "metadata": {},
   "outputs": [],
   "source": [
    "# Show lines with invalid Email\n",
    "df[~df['E-Mail'].apply(is_email_valid)]"
   ]
  },
  {
   "cell_type": "code",
   "execution_count": null,
   "metadata": {},
   "outputs": [],
   "source": [
    "#Coluna SEXO\n",
    "#verifica Nas\n",
    "df[df['Sexo'].isna()]"
   ]
  },
  {
   "cell_type": "code",
   "execution_count": null,
   "metadata": {},
   "outputs": [],
   "source": [
    "# df['Telefone 1'] = df['Telefone 1'].apply(format_tel)\n",
    "# df['Telefone 2'] = df['Telefone 2'].apply(format_tel)\n",
    "# df['Telefone 3'] = df['Telefone 3'].apply(format_tel)"
   ]
  },
  {
   "source": [
    "df.loc[df['CEP'].str.len() != 8, 'CEP'] = np.nan"
   ],
   "cell_type": "code",
   "metadata": {},
   "execution_count": null,
   "outputs": []
  },
  {
   "cell_type": "code",
   "execution_count": null,
   "metadata": {},
   "outputs": [],
   "source": [
    "df['Estado'] = df['Estado'].str.lower()\n",
    "df[df['Estado'] == 'esparito santo'] = 'es'"
   ]
  },
  {
   "cell_type": "code",
   "execution_count": null,
   "metadata": {},
   "outputs": [],
   "source": [
    "df['Estado'] = df['Estado'].map(lambda x: UF_dict.get(x, x))\n",
    "\n",
    "df.loc[df['Estado'].str.contains('solteir.*|casad.*|rg|\\.\\.\\.', na=False), 'Estado'] = np.nan\n",
    "df.loc[df['Estado'].isna(), ['Estado']] = df[df['Estado'].isna()]['CEP'].apply(state_location)"
   ]
  },
  {
   "cell_type": "code",
   "execution_count": null,
   "metadata": {},
   "outputs": [],
   "source": [
    "multiplicadores = ['cidocgs@gmail.com', 'karinekarinepereira80@gmail.com','railmalves@hotmail.com', 'serafimnago@gmail.com', 'damasogabriel@yahoo.com.br', 'jospinto25@yahoo.com.br' ]\n",
    "\n",
    "df.loc[df['Endereço'] == 'Rua Mario Santos Braga', 'Estado'] = 'UFF'\n",
    "df.loc[df['E-Mail'].isin(multiplicadores), 'Estado'] = 'UFF'"
   ]
  },
  {
   "cell_type": "code",
   "execution_count": null,
   "metadata": {},
   "outputs": [],
   "source": [
    "df.loc[df['CPF'] == '66240379034', 'Estado'] = 'rs'\n",
    "df.loc[df['CPF'] == '14646891646', 'Estado'] = 'mg'\n",
    "df.loc[df['CPF'] == '14817892609', 'Estado'] = 'mg'"
   ]
  },
  {
   "cell_type": "code",
   "execution_count": null,
   "metadata": {},
   "outputs": [],
   "source": [
    "df[df['Estado'].isna()]"
   ]
  },
  {
   "cell_type": "code",
   "execution_count": null,
   "metadata": {},
   "outputs": [],
   "source": [
    "df['Estado'] = df['Estado'].str.upper()"
   ]
  },
  {
   "cell_type": "code",
   "execution_count": null,
   "metadata": {},
   "outputs": [],
   "source": [
    "df['Estado'].value_counts(dropna=False)"
   ]
  },
  {
   "cell_type": "code",
   "execution_count": null,
   "metadata": {},
   "outputs": [],
   "source": [
    "df.groupby('Estado').agg({'CPF':'nunique', 'Curso': 'count'}).sort_index()"
   ]
  },
  {
   "cell_type": "code",
   "execution_count": null,
   "metadata": {},
   "outputs": [],
   "source": [
    "df['Curso'] = df['Curso'].str.lower()\n",
    "df.drop(df.loc[df['Curso'].isin(['es', 'arte e educacao (grt)'])].index, inplace=True)\n",
    "\n",
    "df.loc[df['Curso'] == 'educacao financeira', 'Curso'] = 'fundamentos da educacao financeira'\n",
    "df['Curso'].value_counts(dropna=False).sort_index()"
   ]
  },
  {
   "cell_type": "code",
   "execution_count": null,
   "metadata": {},
   "outputs": [],
   "source": [
    "df['Bairro'] = df['Bairro'].apply(lambda x: unicodedata.normalize('NFKD',str(x)).encode('ascii', errors='ignore').decode('utf-8'))"
   ]
  },
  {
   "cell_type": "code",
   "execution_count": null,
   "metadata": {},
   "outputs": [],
   "source": [
    "# df.to_excel('./output/listStudents6-processed.xlsx')"
   ]
  },
  {
   "cell_type": "code",
   "execution_count": null,
   "metadata": {},
   "outputs": [],
   "source": [
    "# import json\n",
    "# # obter em: https://console.developers.google.com/\n",
    "# f = open('pythonforspreadsheet-a0a4e792add1.json',) \n",
    "# creds = json.load(f)"
   ]
  },
  {
   "cell_type": "code",
   "execution_count": null,
   "metadata": {},
   "outputs": [],
   "source": [
    "# df['Nascimento'] = df['Nascimento'].astype('string')\n",
    "# df['Registro'] = df['Registro'].astype('string')\n",
    "# df['Inscrição'] = df['Inscrição'].astype('string')\n",
    "# df.fillna('Nan')"
   ]
  },
  {
   "cell_type": "code",
   "execution_count": null,
   "metadata": {
    "tags": []
   },
   "outputs": [],
   "source": [
    "# it maybe required give share permissions for app's service email \n",
    "# OAuthCreds should be adquired from google developers console\n",
    "\n",
    "def Login():\n",
    "    # Login into google for api's use authorization and return a api backend instance\n",
    "    creds = None\n",
    "    # If modifying these scopes, delete the file token.json.\n",
    "    SCOPES = ['https://www.googleapis.com/auth/spreadsheets'] # permissions\n",
    "    # The file token.json stores the user's access and refresh tokens, and is\n",
    "    # created automatically when the authorization flow completes for the first\n",
    "    # time.\n",
    "    if os.path.exists('token.json'):\n",
    "        creds = Credentials.from_authorized_user_file('token.json', SCOPES)\n",
    "    # If there are no (valid) credentials available, let the user log in.\n",
    "    if not creds or not creds.valid:\n",
    "        if creds and creds.expired and creds.refresh_token:\n",
    "            creds.refresh(Request())\n",
    "        else:\n",
    "            flow = InstalledAppFlow.from_client_secrets_file(\n",
    "                # OAuthCreds should be adquired from google developers console\n",
    "                'OAuthCreds.json', SCOPES)\n",
    "            creds = flow.run_local_server(port=0)\n",
    "        # Save the credentials for the next run\n",
    "        with open('token.json', 'w') as token:\n",
    "            token.write(creds.to_json())\n",
    "        \n",
    "    # Call the Sheets API\n",
    "    service = build('sheets', 'v4', credentials=creds)\n",
    "    sheet = service.spreadsheets()\n",
    "\n",
    "    return sheet\n",
    "\n",
    "def get(SHEET_API_INSTANCE, SAMPLE_SPREADSHEET_ID, SAMPLE_RANGE_NAME):\n",
    "    # get values from a sreadsheet\n",
    "    result = SHEET_API_INSTANCE.values().get(spreadsheetId=SAMPLE_SPREADSHEET_ID,\n",
    "                                range=SAMPLE_RANGE_NAME).execute()\n",
    "    values = result.get('values', [])\n",
    "\n",
    "    if not values:\n",
    "        print('No data found.')\n",
    "    # else:\n",
    "    #     print('Data:')\n",
    "    #     for row in values:\n",
    "    #         print(row)\n",
    "    return result\n",
    "\n",
    "def create(SHEET_API_INSTANCE, TITLE):\n",
    "    # create a sreadsheet and returns its id\n",
    "    spreadsheet = {\n",
    "        'properties': {\n",
    "            'title': TITLE\n",
    "        }\n",
    "    }\n",
    "\n",
    "    spreadsheet = SHEET_API_INSTANCE.create(body=spreadsheet,\n",
    "                                        fields='spreadsheetId').execute()\n",
    "    spreadsheetID = spreadsheet.get('spreadsheetId')\n",
    "    print('Spreadsheet ID: {0}'.format(spreadsheetID))\n",
    "    return spreadsheetID\n",
    "\n",
    "def get_batchget(SHEET_API_INSTANCE, spreadsheet_id, range_names):\n",
    "    result = SHEET_API_INSTANCE.values().batchGet(\n",
    "        spreadsheetId=spreadsheet_id, ranges=range_names).execute()\n",
    "    ranges = result.get('valueRanges', [])\n",
    "    print('{0} ranges retrieved.'.format(len(ranges)))\n",
    "\n",
    "    return result\n",
    "\n",
    "def clear(SHEET_API_INSTANCE, spreadsheet_id, range):\n",
    "    # The A1 notation of the values to clear.\n",
    "    clear_values_request_body = {\n",
    "    }\n",
    "\n",
    "    result = SHEET_API_INSTANCE.values().clear(spreadsheetId=spreadsheet_id, range=range, body=clear_values_request_body).execute()\n",
    "    return result\n",
    "\n",
    "def update(SHEET_API_INSTANCE, spreadsheet_id, value_input_option, range_name, body):\n",
    "    # update cells in a continuos range and return cells changed\n",
    "    result = SHEET_API_INSTANCE.values().update(\n",
    "        spreadsheetId=spreadsheet_id,\n",
    "        valueInputOption=value_input_option, range=range_name, body=body).execute()\n",
    "    op_info = result.get('updatedCells')\n",
    "    print('{0} cells updated.'.format(op_info))\n",
    "    return result\n",
    "\n",
    "def update_batchupdate(SHEET_API_INSTANCE, spreadsheet_id, body):\n",
    "    result = SHEET_API_INSTANCE.values().batchUpdate(\n",
    "        spreadsheetId=spreadsheet_id, body=body).execute()\n",
    "    print('{0} cells updated.'.format(result.get('totalUpdatedCells')))\n",
    "    return result"
   ]
  },
  {
   "cell_type": "code",
   "execution_count": null,
   "metadata": {},
   "outputs": [],
   "source": [
    "sheet_api_instance = Login()"
   ]
  },
  {
   "cell_type": "code",
   "execution_count": null,
   "metadata": {
    "tags": []
   },
   "outputs": [],
   "source": [
    "# The ID and range of a sample spreadsheet.\n",
    "# A1 notation\n",
    "# Sheet1\n",
    "# Sheet1!A2:X2\n",
    "\n",
    "# SAMPLE_SPREADSHEET_ID = '1D9Wdt-ZjHUBk6lTdwjYSBnmqn2kpIMMNKQK0aiEaRLg'\n",
    "# SAMPLE_RANGE_NAME = 'Sheet1!A2:X4'\n",
    "# values = get(sheet_api_instance, SAMPLE_SPREADSHEET_ID, SAMPLE_RANGE_NAME)\n",
    "# values_to_df = pd.DataFrame(values.get('values', []))\n",
    "# values_to_df"
   ]
  },
  {
   "cell_type": "code",
   "execution_count": null,
   "metadata": {},
   "outputs": [],
   "source": [
    "df['Nascimento'] = df['Nascimento'].astype('string')\n",
    "df['Registro'] = df['Registro'].astype('string')\n",
    "df['Inscrição'] = df['Inscrição'].astype('string')"
   ]
  },
  {
   "cell_type": "code",
   "execution_count": null,
   "metadata": {},
   "outputs": [],
   "source": [
    "df.dtypes"
   ]
  },
  {
   "cell_type": "code",
   "execution_count": null,
   "metadata": {},
   "outputs": [],
   "source": [
    "df = df.fillna('')"
   ]
  },
  {
   "cell_type": "code",
   "execution_count": null,
   "metadata": {},
   "outputs": [],
   "source": [
    "SAMPLE_SPREADSHEET_ID = '1D9Wdt-ZjHUBk6lTdwjYSBnmqn2kpIMMNKQK0aiEaRLg'\n",
    "range = 'Página1'\n",
    "clear(sheet_api_instance, SAMPLE_SPREADSHEET_ID, range)"
   ]
  },
  {
   "cell_type": "code",
   "execution_count": null,
   "metadata": {},
   "outputs": [],
   "source": [
    "values = df.values.tolist()\n",
    "range_name = 'Página1'\n",
    "body = {\n",
    "    'range' : range_name,\n",
    "    'values': values\n",
    "}\n",
    "\n",
    "value_input_option = 'RAW'\n",
    "update_info = update(sheet_api_instance, SAMPLE_SPREADSHEET_ID, value_input_option, range_name, body)"
   ]
  },
  {
   "cell_type": "code",
   "execution_count": null,
   "metadata": {},
   "outputs": [],
   "source": []
  }
 ]
}